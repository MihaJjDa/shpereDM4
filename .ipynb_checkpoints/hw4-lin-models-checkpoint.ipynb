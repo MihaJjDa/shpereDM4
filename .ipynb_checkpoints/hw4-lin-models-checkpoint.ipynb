{
 "cells": [
  {
   "cell_type": "markdown",
   "metadata": {},
   "source": [
    "# Алгоритмы интеллектуальной обработки больших объемов данных\n",
    "## Домашнее задание №4: Линейные модели, введение в конкурсную задачу\n"
   ]
  },
  {
   "cell_type": "markdown",
   "metadata": {},
   "source": [
    "###### <hr\\>\n",
    "**Общая информация**\n",
    "\n",
    "**Срок сдачи:** 17 апреля 2017, 06:00 <br\\>\n",
    "**Штраф за опоздание:** -2 балла после 06:00 17 апреля, -4 балла после 06:00 24 апреля, -6 баллов после 06:00 1 мая\n",
    "\n",
    "Имеется ввиду именно сдача данного ДЗ, а не конечного результата по конкурсу (см ниже).<br\\>\n",
    "Жесткий дедлайн по конкурсной задаче - 14 мая 23:59 GMT.\n",
    "\n",
    "При отправлении ДЗ указывайте фамилию в названии файла<br\\>\n",
    "\n",
    "Используйте данный Ipython Notebook при оформлении домашнего задания.\n",
    "<hr\\>"
   ]
  },
  {
   "cell_type": "code",
   "execution_count": 1,
   "metadata": {
    "collapsed": false
   },
   "outputs": [],
   "source": [
    "import pandas as pd\n",
    "import numpy as np\n",
    "import matplotlib.pyplot as plt\n",
    "from sklearn.preprocessing import normalize as nlz\n",
    "from numpy import apply_along_axis as apl\n",
    "import warnings\n",
    "\n",
    "warnings.filterwarnings('ignore')\n",
    "\n",
    "%matplotlib inline\n",
    "\n",
    "plt.style.use('ggplot')\n",
    "plt.rcParams['figure.figsize'] = (12,5)"
   ]
  },
  {
   "cell_type": "markdown",
   "metadata": {},
   "source": [
    "# Определям, что вам досталось"
   ]
  },
  {
   "cell_type": "markdown",
   "metadata": {},
   "source": [
    "<center><img src='https://static1.squarespace.com/static/571a6e39b6aa608067028725/t/577988518419c2d62fb5922f/1467582555915/'></center>"
   ]
  },
  {
   "cell_type": "markdown",
   "metadata": {},
   "source": [
    "Укажите свою фамилию на русском языке в поле ниже."
   ]
  },
  {
   "cell_type": "code",
   "execution_count": 2,
   "metadata": {
    "collapsed": false
   },
   "outputs": [
    {
     "name": "stdout",
     "output_type": "stream",
     "text": [
      "Имплементируйте обучение логистической регрессии с L1 регуляризацией с помощью метода  Stochastic Gradient Descent (SGD)\n"
     ]
    }
   ],
   "source": [
    "USER_NAME = u\"Пучкин\".lower()\n",
    "REGULARIZATIONS = [\"L1\", \"L2\"]\n",
    "ALGORITHM = [\"\", \"Mini Batch\"]\n",
    "\n",
    "print \"Имплементируйте обучение логистической регрессии с %s регуляризацией с помощью метода %s Stochastic Gradient Descent (SGD)\"\\\n",
    "% (\n",
    "    REGULARIZATIONS[hash(USER_NAME) % 2],\n",
    "    ALGORITHM[hash(USER_NAME[::-1]) % 2]\n",
    ")"
   ]
  },
  {
   "cell_type": "markdown",
   "metadata": {},
   "source": [
    "#### Замечания\n",
    "* В SGD градиент расчитывается по одному случайному объекту\n",
    "* В Mini Batch SGD - по подвыборке объектов т.е в алгоритме надо\n",
    "    * Перемешать выборку\n",
    "    * Разбить на части (примерно) одинакового размера - мини батчи\n",
    "    * Считать градиент по мини батчам\n",
    "* Сделайте убывающую скорость спуска, например `alpha/n_epoch` или `alpha/n_iter` или `alpha/n_batch` или ...\n",
    "* Для отладки работы алгоритма, реализуйте возможность сохранения или вывода ошибки модели после очередной итерации/батча/эпохи.\n",
    "* Правило останова - максимальное количество эпох\n",
    "    \n",
    "Эпохой в SGD и MB-SGD называется один проход по **всем** объектам в выборке (тем или иным способом)"
   ]
  },
  {
   "cell_type": "markdown",
   "metadata": {},
   "source": [
    "# Реализация модели"
   ]
  },
  {
   "cell_type": "markdown",
   "metadata": {},
   "source": [
    "## Имплементация (6 баллов)"
   ]
  },
  {
   "cell_type": "code",
   "execution_count": 23,
   "metadata": {
    "collapsed": false
   },
   "outputs": [],
   "source": [
    "from sklearn.base import BaseEstimator, ClassifierMixin\n",
    "\n",
    "class MySGDClassifier(BaseEstimator, ClassifierMixin):\n",
    "    \"\"\"\n",
    "    Предполагается, что в выборке всегда 2 класса\n",
    "    \"\"\"\n",
    "    \n",
    "    def __init__(self, C=1, alpha=0.01, max_epoch=10):\n",
    "        \"\"\"\n",
    "        C - коэф. регуляризации\n",
    "        alpha - скорость спуска\n",
    "        max_epoch - максимальное количество эпох\n",
    "        \"\"\"\n",
    "        \n",
    "        self.C = C\n",
    "        self.alpha = alpha\n",
    "        self.max_epoch = max_epoch\n",
    "        \n",
    "    def sigmoid(self, z):\n",
    "        return 1/(1+np.exp((-1)*z))\n",
    "    \n",
    "    def grad(self, x, beta, y):\n",
    "        res = self.C * np.sign(beta)\n",
    "        for i in xrange(len(res)):\n",
    "            res[i] += np.sum([y[j]*x[j][i]*self.sigmoid(y[j]*x[j].dot(beta))-1 for j in xrange(len(y))])\n",
    "        return res\n",
    "    \n",
    "    \n",
    "    def fit(self, X, y):\n",
    "        '''\n",
    "        Обучение модели\n",
    "        '''\n",
    "        x_norm = nlz(np.hstack((np.ones(X.shape[0], dtype='int').reshape(X.shape[0], 1), X)))\n",
    "        self.beta = nlz(np.random.random(x_norm.shape[1])-0.5)[0]\n",
    "        self.new_beta = nlz(np.random.random(x_norm.shape[1])-0.5)[0]\n",
    "        y1 = y.copy()\n",
    "        y1[y==0] = -1\n",
    "        for n_epoch in xrange(self.max_epoch):\n",
    "            for i in np.random.choice(X.shape[0], X.shape[0], replace=False):\n",
    "                self.beta = self.new_beta.copy()\n",
    "                self.new_beta = nlz(self.beta - self.alpha / float(n_epoch+1) * self.grad(x_norm[i], self.beta, y1[i]))[0]\n",
    "            self.y_hat = np.zeros(x_norm.shape[0], dtype='int')\n",
    "            self.y_hat[(x_norm.dot(self.new_beta)) > 0] = 1\n",
    "            \n",
    "        return self\n",
    "    \n",
    "    def fit_mistakes(self, X, y):\n",
    "        '''\n",
    "        Обучение модели\n",
    "        '''\n",
    "        x_norm = nlz(np.hstack((np.ones(X.shape[0], dtype='int').reshape(X.shape[0], 1), X)))\n",
    "        self.beta = nlz(np.random.random(x_norm.shape[1])-0.5)[0]\n",
    "        self.new_beta = nlz(np.random.random(x_norm.shape[1])-0.5)[0]\n",
    "        y1 = y.copy()\n",
    "        y1[y==0] = -1\n",
    "        for n_epoch in xrange(self.max_epoch):\n",
    "            # for i in np.random.choice(X.shape[0], X.shape[0], replace=False):\n",
    "            #    self.beta = self.new_beta.copy()\n",
    "            #    self.new_beta = nlz(self.new_beta - self.alpha / float(n_epoch+1) * self.grad(x_norm[i], self.beta, y1[i]))[0]\n",
    "            self.beta = self.new_beta.copy()\n",
    "            self.new_beta = nlz(self.beta - self.alpha / float(n_epoch+1) * self.grad(x_norm, self.beta, y1))[0]\n",
    "            self.y_hat_proba = np.array([self.sigmoid(i.dot(self.new_beta)) for i in x_norm])\n",
    "            self.y_hat = np.zeros(x_norm.shape[0], dtype='int')\n",
    "            self.y_hat[self.y_hat_proba > 0.5] = 1\n",
    "            prec = np.sum(self.y_hat==y)/float(len(y))            \n",
    "            print prec\n",
    "            \n",
    "        #for i in xrange(len(y)):\n",
    "        #    print self.y_hat_proba[i], self.y_hat[i], y[i]\n",
    "        \n",
    "        return self\n",
    "    \n",
    "    def partial_fit(self, X, y):\n",
    "        '''\n",
    "        По желанию - метод дообучения модели на новых данных\n",
    "        '''\n",
    "        for n_epoch in xrange(self.max_epoch):\n",
    "            for i in np.random.choice(X.shape[0], X.shape[0], replace=False):\n",
    "                self.beta = self.new_beta.copy()\n",
    "                self.new_beta = nlz(self.new_beta - self.alpha / (n_epoch+1) * self.grad(x_norm[i], self.beta, y[i]))[0]\n",
    "            self.y_pred = np.zeros(x_norm.shape[0], dtype='int')\n",
    "            self.y_pred[(x_norm.dot(self.new_beta)) > 0] = 1\n",
    "                \n",
    "        return self\n",
    "    \n",
    "    def partial_fit_mistakes(self, X, y):\n",
    "        '''\n",
    "        По желанию - метод дообучения модели на новых данных\n",
    "        '''\n",
    "        for n_epoch in xrange(self.max_epoch):\n",
    "            for i in np.random.choice(X.shape[0], X.shape[0], replace=False):\n",
    "                self.beta = self.new_beta.copy()\n",
    "                self.new_beta = nlz(self.beta - self.alpha / (n_epoch+1) * self.grad(x_norm[i], self.beta, y[i]))[0]\n",
    "            self.y_pred = np.zeros(x_norm.shape[0], dtype='int')\n",
    "            self.y_pred[(x_norm.dot(self.new_beta)) > 0] = 1\n",
    "            print np.sum(self.y_pred==y)/float(len(y))   \n",
    "        return self\n",
    "        \n",
    "    def predict(self):\n",
    "        return self.y_hat\n",
    "    \n",
    "    def predict_proba(self):\n",
    "        '''\n",
    "        Возвращение вероятности каждого из классов\n",
    "        '''\n",
    "\n",
    "        \n",
    "        return y_hat_proba"
   ]
  },
  {
   "cell_type": "code",
   "execution_count": 24,
   "metadata": {
    "collapsed": false
   },
   "outputs": [
    {
     "data": {
      "text/plain": [
       "array([-0.95,  0.95, -0.95])"
      ]
     },
     "execution_count": 24,
     "metadata": {},
     "output_type": "execute_result"
    }
   ],
   "source": [
    "a = np.array([-9,1,-1])\n",
    "np.sign(a)*0.95"
   ]
  },
  {
   "cell_type": "code",
   "execution_count": 25,
   "metadata": {
    "collapsed": false
   },
   "outputs": [
    {
     "data": {
      "text/plain": [
       "array([[-0.98787834,  0.10976426, -0.10976426]])"
      ]
     },
     "execution_count": 25,
     "metadata": {},
     "output_type": "execute_result"
    }
   ],
   "source": [
    "nlz(a)"
   ]
  },
  {
   "cell_type": "markdown",
   "metadata": {},
   "source": [
    "## Проверка на синтетических данных (2 балл)"
   ]
  },
  {
   "cell_type": "markdown",
   "metadata": {},
   "source": [
    "Запустите ваш алгоритм на синтетических данных. \n",
    "Выведите полученные веса и нарисуйте разделяющую границу между классами."
   ]
  },
  {
   "cell_type": "code",
   "execution_count": 26,
   "metadata": {
    "collapsed": false
   },
   "outputs": [
    {
     "data": {
      "text/plain": [
       "<matplotlib.collections.PathCollection at 0x7f5cd8ebead0>"
      ]
     },
     "execution_count": 26,
     "metadata": {},
     "output_type": "execute_result"
    },
    {
     "data": {
      "image/png": "[encoded data removed]",
      "text/plain": [
       "<matplotlib.figure.Figure at 0x7f5cd8ef7550>"
      ]
     },
     "metadata": {},
     "output_type": "display_data"
    }
   ],
   "source": [
    "np.random.seed(0)\n",
    "\n",
    "C1 = np.array([[0., -0.8], [1.5, 0.8]])\n",
    "C2 = np.array([[1., -0.7], [2., 0.7]])\n",
    "gauss1 = np.dot(np.random.randn(200, 2) + np.array([5, 3]), C1)\n",
    "gauss2 = np.dot(np.random.randn(200, 2) + np.array([1.5, 0]), C2)\n",
    "\n",
    "X = np.vstack([gauss1, gauss2])\n",
    "y = np.r_[np.ones(200), np.zeros(200)]\n",
    "\n",
    "plt.scatter(X[:,0], X[:,1], c=y)"
   ]
  },
  {
   "cell_type": "code",
   "execution_count": 27,
   "metadata": {
    "collapsed": false
   },
   "outputs": [
    {
     "data": {
      "text/plain": [
       "array([-1,  0,  2])"
      ]
     },
     "execution_count": 27,
     "metadata": {},
     "output_type": "execute_result"
    }
   ],
   "source": [
    "x = np.array([[1,1,1],[2,2,2],[3,3,3],[1,1,1]])\n",
    "z = np.array([1,-1,1,-1])\n",
    "(x.reshape(3,4).dot(z)) #.reshape(4,3)"
   ]
  },
  {
   "cell_type": "code",
   "execution_count": 31,
   "metadata": {
    "collapsed": false,
    "scrolled": true
   },
   "outputs": [
    {
     "name": "stdout",
     "output_type": "stream",
     "text": [
      "0.6225\n",
      "0.625\n",
      "0.625\n",
      "0.625\n",
      "0.625\n",
      "0.625\n",
      "0.625\n",
      "0.625\n",
      "0.625\n",
      "0.625\n",
      "0.625\n",
      "0.625\n",
      "0.625\n",
      "0.625\n",
      "0.625\n",
      "0.625\n",
      "0.625\n",
      "0.625\n",
      "0.625\n",
      "0.625\n",
      "0.625\n",
      "0.625\n",
      "0.625\n",
      "0.625\n",
      "0.625\n",
      "0.625\n",
      "0.625\n",
      "0.625\n",
      "0.625\n",
      "0.625\n",
      "0.625\n",
      "0.625\n",
      "0.625\n",
      "0.625\n",
      "0.625\n",
      "0.625\n",
      "0.625\n",
      "0.625\n",
      "0.625\n",
      "0.625\n",
      "0.625\n",
      "0.625\n",
      "0.625\n",
      "0.625\n",
      "0.625\n",
      "0.625\n",
      "0.625\n",
      "0.625\n",
      "0.625\n",
      "0.625\n",
      "0.625\n",
      "0.625\n",
      "0.625\n",
      "0.625\n",
      "0.625\n",
      "0.625\n",
      "0.625\n",
      "0.625\n",
      "0.625\n",
      "0.625\n",
      "0.625\n",
      "0.625\n",
      "0.625\n",
      "0.625\n",
      "0.625\n",
      "0.625\n",
      "0.625\n",
      "0.625\n",
      "0.625\n",
      "0.625\n",
      "0.625\n",
      "0.625\n",
      "0.625\n",
      "0.625\n",
      "0.625\n",
      "0.625\n",
      "0.625\n",
      "0.625\n",
      "0.625\n",
      "0.625\n",
      "0.625\n",
      "0.625\n",
      "0.625\n",
      "0.625\n",
      "0.625\n",
      "0.625\n",
      "0.625\n",
      "0.625\n",
      "0.625\n",
      "0.625\n",
      "0.625\n",
      "0.625\n",
      "0.625\n",
      "0.625\n",
      "0.625\n",
      "0.625\n",
      "0.625\n",
      "0.625\n",
      "0.625\n",
      "0.625\n"
     ]
    },
    {
     "data": {
      "text/plain": [
       "MySGDClassifier(C=0.01, alpha=0.01, max_epoch=100)"
      ]
     },
     "execution_count": 31,
     "metadata": {},
     "output_type": "execute_result"
    }
   ],
   "source": [
    "model = MySGDClassifier(C=0.01, alpha=0.01, max_epoch=100)\n",
    "model.fit_mistakes(X, y)"
   ]
  },
  {
   "cell_type": "code",
   "execution_count": 32,
   "metadata": {
    "collapsed": false
   },
   "outputs": [
    {
     "data": {
      "text/plain": [
       "<matplotlib.collections.PathCollection at 0x7f5cd8c8c350>"
      ]
     },
     "execution_count": 32,
     "metadata": {},
     "output_type": "execute_result"
    },
    {
     "data": {
      "image/png": "[encoded data removed]",
      "text/plain": [
       "<matplotlib.figure.Figure at 0x7f5cd8df4090>"
      ]
     },
     "metadata": {},
     "output_type": "display_data"
    }
   ],
   "source": [
    "plt.scatter(X[:,0], X[:,1], c=model.predict())"
   ]
  },
  {
   "cell_type": "markdown",
   "metadata": {},
   "source": [
    "## Анализ сходимости (2 балл)"
   ]
  },
  {
   "cell_type": "markdown",
   "metadata": {},
   "source": [
    "Покажите сходимость вашего метода: изобразите графики зависимости значения функции потерь (по всей выборке) после очередной итерации/батча/эпохи (выбрать одно) для разных `alpha`."
   ]
  },
  {
   "cell_type": "code",
   "execution_count": null,
   "metadata": {
    "collapsed": true
   },
   "outputs": [],
   "source": [
    "## Your Code Here"
   ]
  },
  {
   "cell_type": "markdown",
   "metadata": {},
   "source": [
    "# Введение в конкурсную задачу"
   ]
  },
  {
   "cell_type": "markdown",
   "metadata": {},
   "source": [
    "## О hearthstone"
   ]
  },
  {
   "cell_type": "markdown",
   "metadata": {},
   "source": [
    "[Hearthstone](http://eu.battle.net/hearthstone/ru/) - карточная он-лайн игра по мотивам вселенной Warcraft.\n",
    "\n",
    "Каждый игрок играет за персонажа определенного класса и собирает колоду карт которую может разыгрывать во время игры. Для дальнейших деталей обратитесь к [wiki](https://ru.wikipedia.org/wiki/Hearthstone), посмотрите youtube или поиграйте сами (но не долго =) ).\n",
    "\n",
    "Теми или иными способами игрок может отнимать жизни у своего оппонента, таким образом цель раунда - побить другого игрока."
   ]
  },
  {
   "cell_type": "markdown",
   "metadata": {},
   "source": [
    "<center><img src='http://ps3hits.ru/wp-content/uploads/2015/08/hearthstone-game-sshot-1.jpg'></center>"
   ]
  },
  {
   "cell_type": "markdown",
   "metadata": {},
   "source": [
    "## Постановка задачи"
   ]
  },
  {
   "cell_type": "markdown",
   "metadata": {},
   "source": [
    "В рамках конференции [AAIA 17](https://fedcsis.org/2017/aaia) было запущено [соревнование](https://knowledgepit.fedcsis.org/contest/view.php?id=120) по предсказанию исхода раунда в heartstone. \n",
    "\n",
    "Используя признаки, которые описывают текущее состояние раунда необходимо предсказать **вероятность** победы игрока в этом раунде.\n",
    "\n",
    "Качество модели измеряется с помощью **ROC-AUC**\n",
    "\n",
    "### Правила\n",
    "* Объединяться в команды по правилам конкурса можно, но по правилам нашего курса - нельзя)\n",
    "* Вы можете использовать любой алгоритм, даже неизученный в нашем курсе (если на защите сможете объяснить как он работает)\n",
    "* Имейте ввиду, что вы должны отправить результаты строго до 14 мая 23:59 GMT на сайт соревнования (раздел submission). Без результата в leaderboard оценка выставлена не будет."
   ]
  },
  {
   "cell_type": "markdown",
   "metadata": {},
   "source": [
    "## Данные\n",
    "\n",
    "Для того, чтобы получить данные необходимо зарегистрироваться на сайте соревнования. \n",
    "\n",
    "Данные содержат набор информации о раунде в некоторый момент времени: жизни игрока и оппонента, номер хода, карты на столе, карты в руке игрока, количество карт в руке оппонента и тп.<br/>\n",
    "По игроку №1 (далее просто **игрок**) помимо всего прочего известен набор карт \"в руке\".</br>\n",
    "По игроку №2 (далее просто **оппонент**) эта информация отсутствует.</br>\n",
    "\n",
    "\n",
    "Данные поставляются в двух форматах:\n",
    "* В формате json содержится полная информация по текущему состоянию раунда\n",
    "* В табличном формате упрощенная аггрерированная информация по текущему состоянию раунда\n",
    "\n",
    "В данных для обучению содержится 2 млн. игр, разбитых на 4 файла. Названия признаков говорят сами за себя.\n",
    "Целевой признак - `decision` (1 - победил игрок, 0 - победил оппонент)."
   ]
  },
  {
   "cell_type": "markdown",
   "metadata": {},
   "source": [
    "## Работа с простыми табличными данными (1 балл)\n",
    "\n",
    "По соображениям сокращения времени вычислений, проделаем основные шаги по одной части данных.\n",
    "\n",
    "Если данные не будут помещаться вам с оперативную память, рекомендуется совершить предобработку в python, а  моделирование выполнять с помощью [vowpal wabbit](https://github.com/JohnLangford/vowpal_wabbit)."
   ]
  },
  {
   "cell_type": "code",
   "execution_count": null,
   "metadata": {
    "collapsed": false
   },
   "outputs": [],
   "source": [
    "# Загрузка данных целиком\n",
    "# df_list = []\n",
    "# for chunk in range(1,5):\n",
    "#     filepath = './trainingData_tabular_chunk%d.csv' % chunk\n",
    "#     df_list.append(pd.read_csv(filepath, sep=','))\n",
    "\n",
    "# df_data = pd.concat(df_list)\n",
    "\n",
    "# Загрузка одной части данных\n",
    "filepath = './trainingData_tabular_chunk1.csv'\n",
    "df_data = pd.read_csv(filepath, sep=',')"
   ]
  },
  {
   "cell_type": "code",
   "execution_count": null,
   "metadata": {
    "collapsed": false
   },
   "outputs": [],
   "source": [
    "df_data.shape"
   ]
  },
  {
   "cell_type": "code",
   "execution_count": null,
   "metadata": {
    "collapsed": false
   },
   "outputs": [],
   "source": [
    "# для удобства\n",
    "df_data.columns = df_data.columns.str.replace('.', '_')\n",
    "df_data = df_data.set_index('gamestate_id')"
   ]
  },
  {
   "cell_type": "code",
   "execution_count": null,
   "metadata": {
    "collapsed": false
   },
   "outputs": [],
   "source": [
    "df_data.head().T"
   ]
  },
  {
   "cell_type": "code",
   "execution_count": null,
   "metadata": {
    "collapsed": false
   },
   "outputs": [],
   "source": [
    "# Распределение классов\n",
    "df_data.decision.mean()\n",
    "\n",
    "# Примерно поровну"
   ]
  },
  {
   "cell_type": "markdown",
   "metadata": {},
   "source": [
    "#### Задание\n",
    "\n",
    "* Определите количество уникальных карт героя у игрока и оппонента.\n",
    "* Преобразуйте категориальные переменные с помощьб one-hot кодирования, добавьте к датасету и удалите прежние столбцы"
   ]
  },
  {
   "cell_type": "code",
   "execution_count": null,
   "metadata": {
    "collapsed": true
   },
   "outputs": [],
   "source": [
    "## Youd Code Here"
   ]
  },
  {
   "cell_type": "markdown",
   "metadata": {},
   "source": [
    "## Обучение модели (1 балл)"
   ]
  },
  {
   "cell_type": "markdown",
   "metadata": {},
   "source": [
    "#### Задание\n",
    "\n",
    "* Получите матрицу объект признак `X` и вектор целевого признака `y`\n",
    "* Обучите модуль из первой части этого ДЗ на данных"
   ]
  },
  {
   "cell_type": "code",
   "execution_count": null,
   "metadata": {
    "collapsed": true
   },
   "outputs": [],
   "source": [
    "## Youd Code Here"
   ]
  },
  {
   "cell_type": "markdown",
   "metadata": {},
   "source": [
    "## Применение модели (3 балла)\n",
    "#### Задание\n",
    "* Загрузите тестовые данные\n",
    "* Выполните те же операции с датасетом, что и с обучающей выборкой\n",
    "* Примените модель и загрузите решение на страницу конкурса\n",
    "* Напечатайте ваш ник и оценку качества, полученную после загрузки\n",
    "\n",
    "Судя по описанию, submission file должен состоять из одного столбца с числами, соответствующим вероятностям победы игрока."
   ]
  },
  {
   "cell_type": "code",
   "execution_count": null,
   "metadata": {
    "collapsed": true
   },
   "outputs": [],
   "source": [
    "## Youd Code Here"
   ]
  }
 ],
 "metadata": {
  "anaconda-cloud": {},
  "kernelspec": {
   "display_name": "Python 2",
   "language": "python",
   "name": "python2"
  },
  "language_info": {
   "codemirror_mode": {
    "name": "ipython",
    "version": 2
   },
   "file_extension": ".py",
   "mimetype": "text/x-python",
   "name": "python",
   "nbconvert_exporter": "python",
   "pygments_lexer": "ipython2",
   "version": "2.7.13"
  },
  "nav_menu": {},
  "toc": {
   "navigate_menu": true,
   "number_sections": false,
   "sideBar": true,
   "threshold": 6,
   "toc_cell": false,
   "toc_section_display": "block",
   "toc_window_display": true
  }
 },
 "nbformat": 4,
 "nbformat_minor": 2
}
